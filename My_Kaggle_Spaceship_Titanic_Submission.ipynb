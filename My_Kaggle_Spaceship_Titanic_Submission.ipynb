{
 "cells": [
  {
   "cell_type": "code",
   "execution_count": 29,
   "id": "a4b8f7ff",
   "metadata": {},
   "outputs": [],
   "source": [
    "# import packages \n",
    "\n",
    "import numpy as np \n",
    "import pandas as pd\n",
    "import seaborn as sns\n",
    "import matplotlib.pyplot as plt\n",
    "import warnings \n",
    "warnings.filterwarnings('ignore')\n",
    "\n",
    "\n",
    "from sklearn.model_selection import train_test_split, GridSearchCV\n",
    "from sklearn.tree import DecisionTreeClassifier\n",
    "from sklearn.ensemble import RandomForestClassifier, AdaBoostClassifier, GradientBoostingClassifier\n",
    "import xgboost as xgb\n",
    "from sklearn.metrics import accuracy_score\n",
    "from sklearn.model_selection import cross_val_score\n",
    "from sklearn.preprocessing import LabelEncoder"
   ]
  },
  {
   "cell_type": "code",
   "execution_count": 30,
   "id": "19fe4bc8",
   "metadata": {},
   "outputs": [],
   "source": [
    "# import training and test data \n",
    "\n",
    "save_location_path = \"location on your local drive\"\n",
    "\n",
    "train = pd.read_csv(\"/Users/emmanuelomoregie/Documents/Kaggle Projects/Space_Titanic/spaceship-titanic/train.csv\")\n",
    "\n",
    "test = pd.read_csv(\"/Users/emmanuelomoregie/Documents/Kaggle Projects/Space_Titanic/spaceship-titanic/test.csv\")\n",
    " "
   ]
  },
  {
   "cell_type": "code",
   "execution_count": 31,
   "id": "bb3cad2e",
   "metadata": {},
   "outputs": [
    {
     "data": {
      "text/html": [
       "<div>\n",
       "<style scoped>\n",
       "    .dataframe tbody tr th:only-of-type {\n",
       "        vertical-align: middle;\n",
       "    }\n",
       "\n",
       "    .dataframe tbody tr th {\n",
       "        vertical-align: top;\n",
       "    }\n",
       "\n",
       "    .dataframe thead th {\n",
       "        text-align: right;\n",
       "    }\n",
       "</style>\n",
       "<table border=\"1\" class=\"dataframe\">\n",
       "  <thead>\n",
       "    <tr style=\"text-align: right;\">\n",
       "      <th></th>\n",
       "      <th>PassengerId</th>\n",
       "      <th>HomePlanet</th>\n",
       "      <th>CryoSleep</th>\n",
       "      <th>Cabin</th>\n",
       "      <th>Destination</th>\n",
       "      <th>Age</th>\n",
       "      <th>VIP</th>\n",
       "      <th>RoomService</th>\n",
       "      <th>FoodCourt</th>\n",
       "      <th>ShoppingMall</th>\n",
       "      <th>Spa</th>\n",
       "      <th>VRDeck</th>\n",
       "      <th>Name</th>\n",
       "      <th>Transported</th>\n",
       "    </tr>\n",
       "  </thead>\n",
       "  <tbody>\n",
       "    <tr>\n",
       "      <th>0</th>\n",
       "      <td>0001_01</td>\n",
       "      <td>Europa</td>\n",
       "      <td>False</td>\n",
       "      <td>B/0/P</td>\n",
       "      <td>TRAPPIST-1e</td>\n",
       "      <td>39.0</td>\n",
       "      <td>False</td>\n",
       "      <td>0.0</td>\n",
       "      <td>0.0</td>\n",
       "      <td>0.0</td>\n",
       "      <td>0.0</td>\n",
       "      <td>0.0</td>\n",
       "      <td>Maham Ofracculy</td>\n",
       "      <td>False</td>\n",
       "    </tr>\n",
       "    <tr>\n",
       "      <th>1</th>\n",
       "      <td>0002_01</td>\n",
       "      <td>Earth</td>\n",
       "      <td>False</td>\n",
       "      <td>F/0/S</td>\n",
       "      <td>TRAPPIST-1e</td>\n",
       "      <td>24.0</td>\n",
       "      <td>False</td>\n",
       "      <td>109.0</td>\n",
       "      <td>9.0</td>\n",
       "      <td>25.0</td>\n",
       "      <td>549.0</td>\n",
       "      <td>44.0</td>\n",
       "      <td>Juanna Vines</td>\n",
       "      <td>True</td>\n",
       "    </tr>\n",
       "    <tr>\n",
       "      <th>2</th>\n",
       "      <td>0003_01</td>\n",
       "      <td>Europa</td>\n",
       "      <td>False</td>\n",
       "      <td>A/0/S</td>\n",
       "      <td>TRAPPIST-1e</td>\n",
       "      <td>58.0</td>\n",
       "      <td>True</td>\n",
       "      <td>43.0</td>\n",
       "      <td>3576.0</td>\n",
       "      <td>0.0</td>\n",
       "      <td>6715.0</td>\n",
       "      <td>49.0</td>\n",
       "      <td>Altark Susent</td>\n",
       "      <td>False</td>\n",
       "    </tr>\n",
       "    <tr>\n",
       "      <th>3</th>\n",
       "      <td>0003_02</td>\n",
       "      <td>Europa</td>\n",
       "      <td>False</td>\n",
       "      <td>A/0/S</td>\n",
       "      <td>TRAPPIST-1e</td>\n",
       "      <td>33.0</td>\n",
       "      <td>False</td>\n",
       "      <td>0.0</td>\n",
       "      <td>1283.0</td>\n",
       "      <td>371.0</td>\n",
       "      <td>3329.0</td>\n",
       "      <td>193.0</td>\n",
       "      <td>Solam Susent</td>\n",
       "      <td>False</td>\n",
       "    </tr>\n",
       "    <tr>\n",
       "      <th>4</th>\n",
       "      <td>0004_01</td>\n",
       "      <td>Earth</td>\n",
       "      <td>False</td>\n",
       "      <td>F/1/S</td>\n",
       "      <td>TRAPPIST-1e</td>\n",
       "      <td>16.0</td>\n",
       "      <td>False</td>\n",
       "      <td>303.0</td>\n",
       "      <td>70.0</td>\n",
       "      <td>151.0</td>\n",
       "      <td>565.0</td>\n",
       "      <td>2.0</td>\n",
       "      <td>Willy Santantines</td>\n",
       "      <td>True</td>\n",
       "    </tr>\n",
       "  </tbody>\n",
       "</table>\n",
       "</div>"
      ],
      "text/plain": [
       "  PassengerId HomePlanet CryoSleep  Cabin  Destination   Age    VIP  \\\n",
       "0     0001_01     Europa     False  B/0/P  TRAPPIST-1e  39.0  False   \n",
       "1     0002_01      Earth     False  F/0/S  TRAPPIST-1e  24.0  False   \n",
       "2     0003_01     Europa     False  A/0/S  TRAPPIST-1e  58.0   True   \n",
       "3     0003_02     Europa     False  A/0/S  TRAPPIST-1e  33.0  False   \n",
       "4     0004_01      Earth     False  F/1/S  TRAPPIST-1e  16.0  False   \n",
       "\n",
       "   RoomService  FoodCourt  ShoppingMall     Spa  VRDeck               Name  \\\n",
       "0          0.0        0.0           0.0     0.0     0.0    Maham Ofracculy   \n",
       "1        109.0        9.0          25.0   549.0    44.0       Juanna Vines   \n",
       "2         43.0     3576.0           0.0  6715.0    49.0      Altark Susent   \n",
       "3          0.0     1283.0         371.0  3329.0   193.0       Solam Susent   \n",
       "4        303.0       70.0         151.0   565.0     2.0  Willy Santantines   \n",
       "\n",
       "   Transported  \n",
       "0        False  \n",
       "1         True  \n",
       "2        False  \n",
       "3        False  \n",
       "4         True  "
      ]
     },
     "execution_count": 31,
     "metadata": {},
     "output_type": "execute_result"
    }
   ],
   "source": [
    "train.head()"
   ]
  },
  {
   "cell_type": "code",
   "execution_count": 32,
   "id": "ad70b3c1",
   "metadata": {},
   "outputs": [
    {
     "data": {
      "text/html": [
       "<div>\n",
       "<style scoped>\n",
       "    .dataframe tbody tr th:only-of-type {\n",
       "        vertical-align: middle;\n",
       "    }\n",
       "\n",
       "    .dataframe tbody tr th {\n",
       "        vertical-align: top;\n",
       "    }\n",
       "\n",
       "    .dataframe thead th {\n",
       "        text-align: right;\n",
       "    }\n",
       "</style>\n",
       "<table border=\"1\" class=\"dataframe\">\n",
       "  <thead>\n",
       "    <tr style=\"text-align: right;\">\n",
       "      <th></th>\n",
       "      <th>Age</th>\n",
       "      <th>RoomService</th>\n",
       "      <th>FoodCourt</th>\n",
       "      <th>ShoppingMall</th>\n",
       "      <th>Spa</th>\n",
       "      <th>VRDeck</th>\n",
       "    </tr>\n",
       "  </thead>\n",
       "  <tbody>\n",
       "    <tr>\n",
       "      <th>count</th>\n",
       "      <td>8514.000000</td>\n",
       "      <td>8512.000000</td>\n",
       "      <td>8510.000000</td>\n",
       "      <td>8485.000000</td>\n",
       "      <td>8510.000000</td>\n",
       "      <td>8505.000000</td>\n",
       "    </tr>\n",
       "    <tr>\n",
       "      <th>mean</th>\n",
       "      <td>28.827930</td>\n",
       "      <td>224.687617</td>\n",
       "      <td>458.077203</td>\n",
       "      <td>173.729169</td>\n",
       "      <td>311.138778</td>\n",
       "      <td>304.854791</td>\n",
       "    </tr>\n",
       "    <tr>\n",
       "      <th>std</th>\n",
       "      <td>14.489021</td>\n",
       "      <td>666.717663</td>\n",
       "      <td>1611.489240</td>\n",
       "      <td>604.696458</td>\n",
       "      <td>1136.705535</td>\n",
       "      <td>1145.717189</td>\n",
       "    </tr>\n",
       "    <tr>\n",
       "      <th>min</th>\n",
       "      <td>0.000000</td>\n",
       "      <td>0.000000</td>\n",
       "      <td>0.000000</td>\n",
       "      <td>0.000000</td>\n",
       "      <td>0.000000</td>\n",
       "      <td>0.000000</td>\n",
       "    </tr>\n",
       "    <tr>\n",
       "      <th>25%</th>\n",
       "      <td>19.000000</td>\n",
       "      <td>0.000000</td>\n",
       "      <td>0.000000</td>\n",
       "      <td>0.000000</td>\n",
       "      <td>0.000000</td>\n",
       "      <td>0.000000</td>\n",
       "    </tr>\n",
       "    <tr>\n",
       "      <th>50%</th>\n",
       "      <td>27.000000</td>\n",
       "      <td>0.000000</td>\n",
       "      <td>0.000000</td>\n",
       "      <td>0.000000</td>\n",
       "      <td>0.000000</td>\n",
       "      <td>0.000000</td>\n",
       "    </tr>\n",
       "    <tr>\n",
       "      <th>75%</th>\n",
       "      <td>38.000000</td>\n",
       "      <td>47.000000</td>\n",
       "      <td>76.000000</td>\n",
       "      <td>27.000000</td>\n",
       "      <td>59.000000</td>\n",
       "      <td>46.000000</td>\n",
       "    </tr>\n",
       "    <tr>\n",
       "      <th>max</th>\n",
       "      <td>79.000000</td>\n",
       "      <td>14327.000000</td>\n",
       "      <td>29813.000000</td>\n",
       "      <td>23492.000000</td>\n",
       "      <td>22408.000000</td>\n",
       "      <td>24133.000000</td>\n",
       "    </tr>\n",
       "  </tbody>\n",
       "</table>\n",
       "</div>"
      ],
      "text/plain": [
       "               Age   RoomService     FoodCourt  ShoppingMall           Spa  \\\n",
       "count  8514.000000   8512.000000   8510.000000   8485.000000   8510.000000   \n",
       "mean     28.827930    224.687617    458.077203    173.729169    311.138778   \n",
       "std      14.489021    666.717663   1611.489240    604.696458   1136.705535   \n",
       "min       0.000000      0.000000      0.000000      0.000000      0.000000   \n",
       "25%      19.000000      0.000000      0.000000      0.000000      0.000000   \n",
       "50%      27.000000      0.000000      0.000000      0.000000      0.000000   \n",
       "75%      38.000000     47.000000     76.000000     27.000000     59.000000   \n",
       "max      79.000000  14327.000000  29813.000000  23492.000000  22408.000000   \n",
       "\n",
       "             VRDeck  \n",
       "count   8505.000000  \n",
       "mean     304.854791  \n",
       "std     1145.717189  \n",
       "min        0.000000  \n",
       "25%        0.000000  \n",
       "50%        0.000000  \n",
       "75%       46.000000  \n",
       "max    24133.000000  "
      ]
     },
     "execution_count": 32,
     "metadata": {},
     "output_type": "execute_result"
    }
   ],
   "source": [
    "train.describe()"
   ]
  },
  {
   "cell_type": "code",
   "execution_count": 33,
   "id": "9a0145d7",
   "metadata": {},
   "outputs": [
    {
     "data": {
      "text/html": [
       "<div>\n",
       "<style scoped>\n",
       "    .dataframe tbody tr th:only-of-type {\n",
       "        vertical-align: middle;\n",
       "    }\n",
       "\n",
       "    .dataframe tbody tr th {\n",
       "        vertical-align: top;\n",
       "    }\n",
       "\n",
       "    .dataframe thead th {\n",
       "        text-align: right;\n",
       "    }\n",
       "</style>\n",
       "<table border=\"1\" class=\"dataframe\">\n",
       "  <thead>\n",
       "    <tr style=\"text-align: right;\">\n",
       "      <th></th>\n",
       "      <th>PassengerId</th>\n",
       "      <th>HomePlanet</th>\n",
       "      <th>CryoSleep</th>\n",
       "      <th>Cabin</th>\n",
       "      <th>Destination</th>\n",
       "      <th>Age</th>\n",
       "      <th>VIP</th>\n",
       "      <th>RoomService</th>\n",
       "      <th>FoodCourt</th>\n",
       "      <th>ShoppingMall</th>\n",
       "      <th>Spa</th>\n",
       "      <th>VRDeck</th>\n",
       "      <th>Name</th>\n",
       "    </tr>\n",
       "  </thead>\n",
       "  <tbody>\n",
       "    <tr>\n",
       "      <th>0</th>\n",
       "      <td>0013_01</td>\n",
       "      <td>Earth</td>\n",
       "      <td>True</td>\n",
       "      <td>G/3/S</td>\n",
       "      <td>TRAPPIST-1e</td>\n",
       "      <td>27.0</td>\n",
       "      <td>False</td>\n",
       "      <td>0.0</td>\n",
       "      <td>0.0</td>\n",
       "      <td>0.0</td>\n",
       "      <td>0.0</td>\n",
       "      <td>0.0</td>\n",
       "      <td>Nelly Carsoning</td>\n",
       "    </tr>\n",
       "    <tr>\n",
       "      <th>1</th>\n",
       "      <td>0018_01</td>\n",
       "      <td>Earth</td>\n",
       "      <td>False</td>\n",
       "      <td>F/4/S</td>\n",
       "      <td>TRAPPIST-1e</td>\n",
       "      <td>19.0</td>\n",
       "      <td>False</td>\n",
       "      <td>0.0</td>\n",
       "      <td>9.0</td>\n",
       "      <td>0.0</td>\n",
       "      <td>2823.0</td>\n",
       "      <td>0.0</td>\n",
       "      <td>Lerome Peckers</td>\n",
       "    </tr>\n",
       "    <tr>\n",
       "      <th>2</th>\n",
       "      <td>0019_01</td>\n",
       "      <td>Europa</td>\n",
       "      <td>True</td>\n",
       "      <td>C/0/S</td>\n",
       "      <td>55 Cancri e</td>\n",
       "      <td>31.0</td>\n",
       "      <td>False</td>\n",
       "      <td>0.0</td>\n",
       "      <td>0.0</td>\n",
       "      <td>0.0</td>\n",
       "      <td>0.0</td>\n",
       "      <td>0.0</td>\n",
       "      <td>Sabih Unhearfus</td>\n",
       "    </tr>\n",
       "    <tr>\n",
       "      <th>3</th>\n",
       "      <td>0021_01</td>\n",
       "      <td>Europa</td>\n",
       "      <td>False</td>\n",
       "      <td>C/1/S</td>\n",
       "      <td>TRAPPIST-1e</td>\n",
       "      <td>38.0</td>\n",
       "      <td>False</td>\n",
       "      <td>0.0</td>\n",
       "      <td>6652.0</td>\n",
       "      <td>0.0</td>\n",
       "      <td>181.0</td>\n",
       "      <td>585.0</td>\n",
       "      <td>Meratz Caltilter</td>\n",
       "    </tr>\n",
       "    <tr>\n",
       "      <th>4</th>\n",
       "      <td>0023_01</td>\n",
       "      <td>Earth</td>\n",
       "      <td>False</td>\n",
       "      <td>F/5/S</td>\n",
       "      <td>TRAPPIST-1e</td>\n",
       "      <td>20.0</td>\n",
       "      <td>False</td>\n",
       "      <td>10.0</td>\n",
       "      <td>0.0</td>\n",
       "      <td>635.0</td>\n",
       "      <td>0.0</td>\n",
       "      <td>0.0</td>\n",
       "      <td>Brence Harperez</td>\n",
       "    </tr>\n",
       "  </tbody>\n",
       "</table>\n",
       "</div>"
      ],
      "text/plain": [
       "  PassengerId HomePlanet CryoSleep  Cabin  Destination   Age    VIP  \\\n",
       "0     0013_01      Earth      True  G/3/S  TRAPPIST-1e  27.0  False   \n",
       "1     0018_01      Earth     False  F/4/S  TRAPPIST-1e  19.0  False   \n",
       "2     0019_01     Europa      True  C/0/S  55 Cancri e  31.0  False   \n",
       "3     0021_01     Europa     False  C/1/S  TRAPPIST-1e  38.0  False   \n",
       "4     0023_01      Earth     False  F/5/S  TRAPPIST-1e  20.0  False   \n",
       "\n",
       "   RoomService  FoodCourt  ShoppingMall     Spa  VRDeck              Name  \n",
       "0          0.0        0.0           0.0     0.0     0.0   Nelly Carsoning  \n",
       "1          0.0        9.0           0.0  2823.0     0.0    Lerome Peckers  \n",
       "2          0.0        0.0           0.0     0.0     0.0   Sabih Unhearfus  \n",
       "3          0.0     6652.0           0.0   181.0   585.0  Meratz Caltilter  \n",
       "4         10.0        0.0         635.0     0.0     0.0   Brence Harperez  "
      ]
     },
     "execution_count": 33,
     "metadata": {},
     "output_type": "execute_result"
    }
   ],
   "source": [
    "test.head()"
   ]
  },
  {
   "cell_type": "code",
   "execution_count": 34,
   "id": "4184e0c4",
   "metadata": {},
   "outputs": [
    {
     "data": {
      "text/html": [
       "<div>\n",
       "<style scoped>\n",
       "    .dataframe tbody tr th:only-of-type {\n",
       "        vertical-align: middle;\n",
       "    }\n",
       "\n",
       "    .dataframe tbody tr th {\n",
       "        vertical-align: top;\n",
       "    }\n",
       "\n",
       "    .dataframe thead th {\n",
       "        text-align: right;\n",
       "    }\n",
       "</style>\n",
       "<table border=\"1\" class=\"dataframe\">\n",
       "  <thead>\n",
       "    <tr style=\"text-align: right;\">\n",
       "      <th></th>\n",
       "      <th>Age</th>\n",
       "      <th>RoomService</th>\n",
       "      <th>FoodCourt</th>\n",
       "      <th>ShoppingMall</th>\n",
       "      <th>Spa</th>\n",
       "      <th>VRDeck</th>\n",
       "    </tr>\n",
       "  </thead>\n",
       "  <tbody>\n",
       "    <tr>\n",
       "      <th>count</th>\n",
       "      <td>4186.000000</td>\n",
       "      <td>4195.000000</td>\n",
       "      <td>4171.000000</td>\n",
       "      <td>4179.000000</td>\n",
       "      <td>4176.000000</td>\n",
       "      <td>4197.000000</td>\n",
       "    </tr>\n",
       "    <tr>\n",
       "      <th>mean</th>\n",
       "      <td>28.658146</td>\n",
       "      <td>219.266269</td>\n",
       "      <td>439.484296</td>\n",
       "      <td>177.295525</td>\n",
       "      <td>303.052443</td>\n",
       "      <td>310.710031</td>\n",
       "    </tr>\n",
       "    <tr>\n",
       "      <th>std</th>\n",
       "      <td>14.179072</td>\n",
       "      <td>607.011289</td>\n",
       "      <td>1527.663045</td>\n",
       "      <td>560.821123</td>\n",
       "      <td>1117.186015</td>\n",
       "      <td>1246.994742</td>\n",
       "    </tr>\n",
       "    <tr>\n",
       "      <th>min</th>\n",
       "      <td>0.000000</td>\n",
       "      <td>0.000000</td>\n",
       "      <td>0.000000</td>\n",
       "      <td>0.000000</td>\n",
       "      <td>0.000000</td>\n",
       "      <td>0.000000</td>\n",
       "    </tr>\n",
       "    <tr>\n",
       "      <th>25%</th>\n",
       "      <td>19.000000</td>\n",
       "      <td>0.000000</td>\n",
       "      <td>0.000000</td>\n",
       "      <td>0.000000</td>\n",
       "      <td>0.000000</td>\n",
       "      <td>0.000000</td>\n",
       "    </tr>\n",
       "    <tr>\n",
       "      <th>50%</th>\n",
       "      <td>26.000000</td>\n",
       "      <td>0.000000</td>\n",
       "      <td>0.000000</td>\n",
       "      <td>0.000000</td>\n",
       "      <td>0.000000</td>\n",
       "      <td>0.000000</td>\n",
       "    </tr>\n",
       "    <tr>\n",
       "      <th>75%</th>\n",
       "      <td>37.000000</td>\n",
       "      <td>53.000000</td>\n",
       "      <td>78.000000</td>\n",
       "      <td>33.000000</td>\n",
       "      <td>50.000000</td>\n",
       "      <td>36.000000</td>\n",
       "    </tr>\n",
       "    <tr>\n",
       "      <th>max</th>\n",
       "      <td>79.000000</td>\n",
       "      <td>11567.000000</td>\n",
       "      <td>25273.000000</td>\n",
       "      <td>8292.000000</td>\n",
       "      <td>19844.000000</td>\n",
       "      <td>22272.000000</td>\n",
       "    </tr>\n",
       "  </tbody>\n",
       "</table>\n",
       "</div>"
      ],
      "text/plain": [
       "               Age   RoomService     FoodCourt  ShoppingMall           Spa  \\\n",
       "count  4186.000000   4195.000000   4171.000000   4179.000000   4176.000000   \n",
       "mean     28.658146    219.266269    439.484296    177.295525    303.052443   \n",
       "std      14.179072    607.011289   1527.663045    560.821123   1117.186015   \n",
       "min       0.000000      0.000000      0.000000      0.000000      0.000000   \n",
       "25%      19.000000      0.000000      0.000000      0.000000      0.000000   \n",
       "50%      26.000000      0.000000      0.000000      0.000000      0.000000   \n",
       "75%      37.000000     53.000000     78.000000     33.000000     50.000000   \n",
       "max      79.000000  11567.000000  25273.000000   8292.000000  19844.000000   \n",
       "\n",
       "             VRDeck  \n",
       "count   4197.000000  \n",
       "mean     310.710031  \n",
       "std     1246.994742  \n",
       "min        0.000000  \n",
       "25%        0.000000  \n",
       "50%        0.000000  \n",
       "75%       36.000000  \n",
       "max    22272.000000  "
      ]
     },
     "execution_count": 34,
     "metadata": {},
     "output_type": "execute_result"
    }
   ],
   "source": [
    "test.describe()"
   ]
  },
  {
   "cell_type": "markdown",
   "id": "5591cf0c",
   "metadata": {},
   "source": [
    "## New Variables Via Feature Engineering\n",
    "\n",
    "1. Deck - The Deck which the passenger was on derived from the cabin variable\n",
    "2. Num - The number related to where the passenger stayed derived from th cabin variable \n",
    "3. Side - The side of the spaceship for which the passenger was on derived from the cabin varibale \n",
    "4. Total_Spend - Total amount of money spent by passengers on the spaceship \n",
    "5. PassengerId_end - last three digits from the passengerId variable "
   ]
  },
  {
   "cell_type": "code",
   "execution_count": 35,
   "id": "f281f5b4",
   "metadata": {},
   "outputs": [],
   "source": [
    "train['Deck'] = [i.split('/')[0] if type(i) != float else i for i in train['Cabin']]\n",
    "train['Num'] = [i.split('/')[1] if type(i) != float else i for i in train['Cabin']]\n",
    "train['Side'] = [i.split('/')[2] if type(i) != float else i for i in train['Cabin']]\n",
    "train['TotalSpend'] = train['RoomService'] + train['FoodCourt'] + train['ShoppingMall'] + train['Spa'] + train['VRDeck']\n",
    "train['PassengerId_end'] = [i.split('_')[1] if type(i) != float else i for i in train['PassengerId']]"
   ]
  },
  {
   "cell_type": "code",
   "execution_count": 36,
   "id": "792bb422",
   "metadata": {},
   "outputs": [],
   "source": [
    "test['Deck'] = [i.split('/')[0] if type(i) != float else i for i in test['Cabin']]\n",
    "test['Num'] = [i.split('/')[1] if type(i) != float else i for i in test['Cabin']]\n",
    "test['Side'] = [i.split('/')[2] if type(i) != float else i for i in test['Cabin']]\n",
    "test['TotalSpend'] = test['RoomService'] + test['FoodCourt'] + test['ShoppingMall'] + test['Spa'] + test['VRDeck']\n",
    "test['PassengerId_end'] = [i.split('_')[1] if type(i) != float else i for i in test['PassengerId']]"
   ]
  },
  {
   "cell_type": "markdown",
   "id": "e7ae78ee",
   "metadata": {},
   "source": [
    "## Dealing with Missing Values "
   ]
  },
  {
   "cell_type": "code",
   "execution_count": 37,
   "id": "e9bd6953",
   "metadata": {},
   "outputs": [
    {
     "data": {
      "text/plain": [
       "PassengerId          0\n",
       "HomePlanet         201\n",
       "CryoSleep          217\n",
       "Cabin              199\n",
       "Destination        182\n",
       "Age                179\n",
       "VIP                203\n",
       "RoomService        181\n",
       "FoodCourt          183\n",
       "ShoppingMall       208\n",
       "Spa                183\n",
       "VRDeck             188\n",
       "Name               200\n",
       "Transported          0\n",
       "Deck               199\n",
       "Num                199\n",
       "Side               199\n",
       "TotalSpend         908\n",
       "PassengerId_end      0\n",
       "dtype: int64"
      ]
     },
     "execution_count": 37,
     "metadata": {},
     "output_type": "execute_result"
    }
   ],
   "source": [
    "train.isnull().sum()"
   ]
  },
  {
   "cell_type": "code",
   "execution_count": 38,
   "id": "ec37d042",
   "metadata": {},
   "outputs": [],
   "source": [
    "missing_values = list(train.isnull().sum())\n",
    "column_names = list(train.columns)"
   ]
  },
  {
   "cell_type": "code",
   "execution_count": 39,
   "id": "77520b37",
   "metadata": {},
   "outputs": [],
   "source": [
    "percent_of_missing = {column_names[i]:(str(missing_values[i]/len(train)*100)) + '%' for i in range(len(missing_values))}"
   ]
  },
  {
   "cell_type": "code",
   "execution_count": 40,
   "id": "939b47be",
   "metadata": {},
   "outputs": [
    {
     "data": {
      "text/plain": [
       "2.3182597007876877"
      ]
     },
     "execution_count": 40,
     "metadata": {},
     "output_type": "execute_result"
    }
   ],
   "source": [
    "((sum(missing_values)/(len(train) * len(missing_values))) * 100)"
   ]
  },
  {
   "cell_type": "markdown",
   "id": "aa8d2fb2",
   "metadata": {},
   "source": [
    "From my dataset about 2% is missing data, as I will still have 98% of my data remaining.\n",
    "\n",
    "We are going to create 4 types of dataset:\n",
    "\n",
    "1. Drop missing data \n",
    "2. Impute Missing data using mode (for cateorgical variables) and medium/mean (for numerical variables)"
   ]
  },
  {
   "cell_type": "markdown",
   "id": "d2c3d043",
   "metadata": {},
   "source": [
    "In the dataset, The variables that are categorical variables is as follows:\n",
    "\n",
    "1. HomePlanet\n",
    "2. CryoSleep\n",
    "3. Destination\n",
    "4. VIP\n",
    "5. Deck\n",
    "6. Side \n",
    "7. Passengerid_end\n",
    "\n",
    "The variables that are numerical variables is as follows:\n",
    "\n",
    "1. Age\n",
    "2. RoomService\n",
    "3. FoodCourt\n",
    "4. ShoppingMall\n",
    "5. Spa\n",
    "6. VRDeck\n",
    "7. TotalSpend\n"
   ]
  },
  {
   "cell_type": "code",
   "execution_count": 52,
   "id": "cc4ee30d",
   "metadata": {},
   "outputs": [],
   "source": [
    "def model_performance(model_list, X, y):\n",
    "    \n",
    "    result = dict()\n",
    "    for model_name, model in model_list.items():\n",
    "        model.fit(X, y)\n",
    "        average_accuracy = cross_val_score(model, X, y, cv=5)\n",
    "        result[model_name] = np.mean(average_accuracy)\n",
    "    \n",
    "    return result"
   ]
  },
  {
   "cell_type": "code",
   "execution_count": 59,
   "id": "6e6c6b32",
   "metadata": {},
   "outputs": [],
   "source": [
    "cat_columns = ['HomePlanet', 'CryoSleep', 'Destination', 'VIP', 'Deck', 'Side', 'PassengerId', 'PassengerId_end']\n",
    "num_columns = ['Age', 'RoomService', 'FoodCourt', 'ShoppingMall', 'Spa', 'VRDeck', 'TotalSpend']"
   ]
  },
  {
   "cell_type": "code",
   "execution_count": 60,
   "id": "e3fc6a6b",
   "metadata": {},
   "outputs": [],
   "source": [
    "encoder = LabelEncoder()"
   ]
  },
  {
   "cell_type": "markdown",
   "id": "0bad3b43",
   "metadata": {},
   "source": [
    "## Dropped Dataset "
   ]
  },
  {
   "cell_type": "code",
   "execution_count": 42,
   "id": "821728da",
   "metadata": {},
   "outputs": [],
   "source": [
    "# dataset with dropped data\n",
    "\n",
    "train_dropped = train.dropna()"
   ]
  },
  {
   "cell_type": "markdown",
   "id": "2005f625",
   "metadata": {},
   "source": [
    "#### Dropped Dataset Preprocessing "
   ]
  },
  {
   "cell_type": "code",
   "execution_count": 44,
   "id": "bc845054",
   "metadata": {},
   "outputs": [],
   "source": [
    "for i in cat_columns:\n",
    "    train_dropped[i] = encoder.fit_transform(train_dropped[i])"
   ]
  },
  {
   "cell_type": "code",
   "execution_count": 45,
   "id": "9c0168f2",
   "metadata": {},
   "outputs": [],
   "source": [
    "train_dropped =  train_dropped.drop(['Cabin', 'Name', 'Num'], axis = 1)"
   ]
  },
  {
   "cell_type": "code",
   "execution_count": 46,
   "id": "c4dcac0e",
   "metadata": {},
   "outputs": [],
   "source": [
    "X_dropped = train_dropped.drop(['PassengerId', 'Transported'], axis=1)\n",
    "y_dropped = train_dropped['Transported']"
   ]
  },
  {
   "cell_type": "code",
   "execution_count": 47,
   "id": "5e1f662d",
   "metadata": {},
   "outputs": [],
   "source": [
    "X_dropped_train, X_dropped_test, y_dropped_train, y_dropped_test = train_test_split(X_dropped, y_dropped,test_size=0.2, random_state=42)\n"
   ]
  },
  {
   "cell_type": "markdown",
   "id": "e6c5ad85",
   "metadata": {},
   "source": [
    "#### Classifers "
   ]
  },
  {
   "cell_type": "code",
   "execution_count": 48,
   "id": "ee9e6dfd",
   "metadata": {},
   "outputs": [],
   "source": [
    "tree_clf_dropped = DecisionTreeClassifier(criterion='gini', max_depth=5, min_samples_leaf=4,min_samples_split=2)\n",
    "rand_forest_clf_dropped = RandomForestClassifier(max_depth=10, min_samples_split=2, n_estimators=200)\n",
    "ada_clf_dropped = AdaBoostClassifier(learning_rate=0.5, n_estimators=100)\n",
    "GB_clf_dropped = GradientBoostingClassifier(learning_rate=0.1, max_depth=5, n_estimators=50)\n",
    "xgb_clf_dropped = xgb.XGBClassifier(learning_rate=0.1, max_depth=3, n_estimators=300)"
   ]
  },
  {
   "cell_type": "code",
   "execution_count": 49,
   "id": "d484179f",
   "metadata": {},
   "outputs": [],
   "source": [
    "dropped_models = {'Decision_Tree_Dropped':tree_clf_dropped, \n",
    "                  'Random_forest_Dropped': rand_forest_clf_dropped,\n",
    "                  'Ada_Boost_Dropped': ada_clf_dropped,\n",
    "                  'Gradient_Boost_Dropped': GB_clf_dropped,\n",
    "                 'Xtreme_Graident_Boost_Dropped':xgb_clf_dropped}"
   ]
  },
  {
   "cell_type": "code",
   "execution_count": 54,
   "id": "0c84393e",
   "metadata": {},
   "outputs": [],
   "source": [
    "dropped_model_performance = model_performance(dropped_models, X_dropped, y_dropped)"
   ]
  },
  {
   "cell_type": "code",
   "execution_count": 55,
   "id": "b40602e4",
   "metadata": {},
   "outputs": [
    {
     "name": "stdout",
     "output_type": "stream",
     "text": [
      "{'Decision_Tree': 0.7838353102048716, 'Random_forest': 0.7982169790684864, 'Ada_Boost': 0.7932213366988059, 'Gradient_Boost': 0.8013947852736145, 'Xterme_Graident_Boost': 0.8054816813467081}\n"
     ]
    }
   ],
   "source": [
    "print(dropped_model_performance)"
   ]
  },
  {
   "cell_type": "code",
   "execution_count": null,
   "id": "07f87a4b",
   "metadata": {},
   "outputs": [],
   "source": []
  },
  {
   "cell_type": "code",
   "execution_count": null,
   "id": "b2f63b50",
   "metadata": {},
   "outputs": [],
   "source": []
  },
  {
   "cell_type": "code",
   "execution_count": null,
   "id": "36895f5d",
   "metadata": {},
   "outputs": [],
   "source": []
  },
  {
   "cell_type": "markdown",
   "id": "b3c1e1e3",
   "metadata": {},
   "source": [
    "## Imputed Dataset - with Mode and Median"
   ]
  },
  {
   "cell_type": "code",
   "execution_count": 72,
   "id": "9d47f621",
   "metadata": {},
   "outputs": [],
   "source": [
    "train_impute = train.copy()"
   ]
  },
  {
   "cell_type": "code",
   "execution_count": 73,
   "id": "84907eae",
   "metadata": {},
   "outputs": [],
   "source": [
    "# Catergorical Variable\n",
    "\n",
    "train_impute['HomePlanet'] = train_impute['HomePlanet'].fillna(train_impute['HomePlanet'].mode()[0])\n",
    "train_impute['CryoSleep'] = train_impute['CryoSleep'].fillna(train_impute['CryoSleep'].mode()[0])\n",
    "train_impute['Destination'] = train_impute['Destination'].fillna(train_impute['Destination'].mode()[0])\n",
    "train_impute['VIP'] = train_impute['VIP'].fillna(train_impute['VIP'].mode()[0])\n",
    "train_impute['Deck'] = train_impute['Deck'].fillna(train_impute['Deck'].mode()[0])\n",
    "train_impute['Side'] = train_impute['Side'].fillna(train_impute['Side'].mode()[0])\n",
    "train_impute['PassengerId_end'] = train_impute['PassengerId_end'].fillna(train_impute['PassengerId_end'].mode()[0])\n",
    "\n",
    "# Numerical Variable\n",
    "\n",
    "train_impute['Age'] = train_impute['Age'].fillna(np.median(train['Age'].dropna()))\n",
    "train_impute['RoomService'] = train_impute['RoomService'].fillna(np.median(train['RoomService'].dropna()))\n",
    "train_impute['FoodCourt'] = train_impute['FoodCourt'].fillna(np.median(train['FoodCourt'].dropna()))\n",
    "train_impute['ShoppingMall'] = train_impute['ShoppingMall'].fillna(np.median(train['ShoppingMall'].dropna()))\n",
    "train_impute['Spa'] = train_impute['Spa'].fillna(np.median(train['Spa'].dropna()))\n",
    "train_impute['VRDeck'] = train_impute['VRDeck'].fillna(np.median(train['VRDeck'].dropna()))\n",
    "train_impute['TotalSpend'] = train_impute['TotalSpend'].fillna(np.median(train['TotalSpend'].dropna()))"
   ]
  },
  {
   "cell_type": "code",
   "execution_count": 74,
   "id": "332ed10b",
   "metadata": {},
   "outputs": [],
   "source": [
    "for i in cat_columns:\n",
    "    train_impute[i] = encoder.fit_transform(train_impute[i])"
   ]
  },
  {
   "cell_type": "code",
   "execution_count": 75,
   "id": "36791de0",
   "metadata": {},
   "outputs": [],
   "source": [
    "train_impute =  train_impute.drop(['Cabin', 'Name', 'Num'], axis = 1)"
   ]
  },
  {
   "cell_type": "code",
   "execution_count": 76,
   "id": "15cb9a9e",
   "metadata": {},
   "outputs": [],
   "source": [
    "X_impute = train_impute.drop(['PassengerId', 'Transported'], axis=1)\n",
    "y_impute = train_impute['Transported']"
   ]
  },
  {
   "cell_type": "code",
   "execution_count": 77,
   "id": "be732361",
   "metadata": {},
   "outputs": [],
   "source": [
    "X_impute_train, X_impute_test, y_impute_train, y_impute_test = train_test_split(X_impute, y_impute,test_size=0.2, random_state=42)\n"
   ]
  },
  {
   "cell_type": "code",
   "execution_count": 78,
   "id": "db1f83fa",
   "metadata": {},
   "outputs": [],
   "source": [
    "tree_clf_impute = DecisionTreeClassifier(criterion='entropy', max_depth=10, min_samples_leaf=4, min_samples_split=5)\n",
    "rand_forest_clf_impute = RandomForestClassifier(max_depth=10, min_samples_split=5, n_estimators=200)\n",
    "ada_clf_impute = AdaBoostClassifier(learning_rate=0.5, n_estimators=150)\n",
    "GB_clf_impute = GradientBoostingClassifier(learning_rate=0.1, max_depth=5, n_estimators=150)\n",
    "xgb_clf_impute = xgb.XGBClassifier(learning_rate=0.1, max_depth=3, n_estimators=300)"
   ]
  },
  {
   "cell_type": "code",
   "execution_count": 79,
   "id": "749cc49a",
   "metadata": {},
   "outputs": [],
   "source": [
    "impute_models = {'Decision_Tree_Impute':tree_clf_impute, \n",
    "                  'Random_forest_Impute': rand_forest_clf_impute,\n",
    "                  'Ada_Boost_Impute': ada_clf_impute,\n",
    "                  'Gradient_Boost_Impute': GB_clf_impute,\n",
    "                 'Xtreme_Graident_Boost_Impute':xgb_clf_impute}"
   ]
  },
  {
   "cell_type": "code",
   "execution_count": 80,
   "id": "01fd61fc",
   "metadata": {},
   "outputs": [],
   "source": [
    "impute_model_performance = model_performance(impute_models, X_impute, y_impute)"
   ]
  },
  {
   "cell_type": "code",
   "execution_count": 81,
   "id": "80f5b22d",
   "metadata": {},
   "outputs": [
    {
     "name": "stdout",
     "output_type": "stream",
     "text": [
      "{'Decision_Tree_Impute': 0.7698181103513719, 'Random_forest_Impute': 0.7970808455053001, 'Ada_Boost_Impute': 0.7904073674340305, 'Gradient_Boost_Impute': 0.7969656383607366, 'Xterme_Graident_Boost_Impute': 0.796965042803987}\n"
     ]
    }
   ],
   "source": [
    "print(impute_model_performance)"
   ]
  },
  {
   "cell_type": "markdown",
   "id": "fb7aed89",
   "metadata": {},
   "source": [
    "# Submission "
   ]
  },
  {
   "cell_type": "markdown",
   "id": "fdee8c3b",
   "metadata": {},
   "source": [
    "Although in this case Dropped Data with Xtreme Gradient Boost has the best score, for my submission Impute data with Xtreme Gradient Boost is used. From my submission research these were my results \n",
    "\n",
    "- Dropped Dataset \n",
    "\n",
    "1. Decision Tree: 0.7804718184685072\n",
    "2. Random Forest: 0.8009102376652045\n",
    "3. Ada Boost: 0.7976905406955075\n",
    "4. Gradient Boost: 0.8048835684183366\n",
    "5. XGB: 0.8062075341876666\n",
    "\n",
    "- Impute Dataset \n",
    "\n",
    "1. Decision Tree: 0.7825709985570134\n",
    "2. Random Forest: 0.8061551908724638\n",
    "3. Ada Boost: 0.7993986004582387\n",
    "4. Gradient Boost: 0.8031355734966305\n",
    "5. XGB: 0.8068744084531081 - The Best"
   ]
  },
  {
   "cell_type": "code",
   "execution_count": 82,
   "id": "5d6645d6",
   "metadata": {},
   "outputs": [],
   "source": [
    "test_impute = test.copy()"
   ]
  },
  {
   "cell_type": "code",
   "execution_count": 84,
   "id": "259fe454",
   "metadata": {},
   "outputs": [],
   "source": [
    "\n",
    "# Catergorical Variable\n",
    "\n",
    "test_impute['HomePlanet'] = test_impute['HomePlanet'].fillna(test['HomePlanet'].mode()[0])\n",
    "test_impute['CryoSleep'] = test_impute['CryoSleep'].fillna(test['CryoSleep'].mode()[0])\n",
    "test_impute['Destination'] = test_impute['Destination'].fillna(test['Destination'].mode()[0])\n",
    "test_impute['VIP'] = test_impute['VIP'].fillna(test['VIP'].mode()[0])\n",
    "test_impute['Deck'] = test_impute['Deck'].fillna(test['Deck'].mode()[0])\n",
    "test_impute['Side'] = test_impute['Side'].fillna(test['Side'].mode()[0])\n",
    "test_impute['PassengerId_end'] = test_impute['PassengerId_end'].fillna(test['PassengerId_end'].mode()[0])\n",
    "\n",
    "# Numerical Variable\n",
    "\n",
    "test_impute['Age'] = test_impute['Age'].fillna(np.median(test['Age'].dropna()))\n",
    "test_impute['RoomService'] = test_impute['RoomService'].fillna(np.median(test['RoomService'].dropna()))\n",
    "test_impute['FoodCourt'] = test_impute['FoodCourt'].fillna(np.median(test['FoodCourt'].dropna()))\n",
    "test_impute['ShoppingMall'] = test_impute['ShoppingMall'].fillna(np.median(test['ShoppingMall'].dropna()))\n",
    "test_impute['Spa'] = test_impute['Spa'].fillna(np.median(test['Spa'].dropna()))\n",
    "test_impute['VRDeck'] = test_impute['VRDeck'].fillna(np.median(test['VRDeck'].dropna()))\n",
    "test_impute['TotalSpend'] = test_impute['TotalSpend'].fillna(np.median(test['TotalSpend'].dropna()))"
   ]
  },
  {
   "cell_type": "code",
   "execution_count": 85,
   "id": "fefbbf50",
   "metadata": {},
   "outputs": [],
   "source": [
    "for i in cat_columns:\n",
    "    test_impute[i] = encoder.fit_transform(test_impute[i])"
   ]
  },
  {
   "cell_type": "code",
   "execution_count": 86,
   "id": "ca3e1ccd",
   "metadata": {},
   "outputs": [],
   "source": [
    "test_impute =  test_impute.drop(['Cabin', 'Name', 'Num'], axis = 1)"
   ]
  },
  {
   "cell_type": "code",
   "execution_count": 94,
   "id": "b7f6a981",
   "metadata": {},
   "outputs": [],
   "source": [
    "X_train = train_impute.drop(['PassengerId', 'Transported'], axis=1)\n",
    "y_train = train_impute['Transported']"
   ]
  },
  {
   "cell_type": "code",
   "execution_count": 95,
   "id": "a4c750fc",
   "metadata": {},
   "outputs": [],
   "source": [
    "xgb_clf = xgb.XGBClassifier(learning_rate=0.1, max_depth=3, n_estimators=300)"
   ]
  },
  {
   "cell_type": "code",
   "execution_count": 96,
   "id": "02dff882",
   "metadata": {},
   "outputs": [
    {
     "data": {
      "text/html": [
       "<style>#sk-container-id-3 {color: black;background-color: white;}#sk-container-id-3 pre{padding: 0;}#sk-container-id-3 div.sk-toggleable {background-color: white;}#sk-container-id-3 label.sk-toggleable__label {cursor: pointer;display: block;width: 100%;margin-bottom: 0;padding: 0.3em;box-sizing: border-box;text-align: center;}#sk-container-id-3 label.sk-toggleable__label-arrow:before {content: \"▸\";float: left;margin-right: 0.25em;color: #696969;}#sk-container-id-3 label.sk-toggleable__label-arrow:hover:before {color: black;}#sk-container-id-3 div.sk-estimator:hover label.sk-toggleable__label-arrow:before {color: black;}#sk-container-id-3 div.sk-toggleable__content {max-height: 0;max-width: 0;overflow: hidden;text-align: left;background-color: #f0f8ff;}#sk-container-id-3 div.sk-toggleable__content pre {margin: 0.2em;color: black;border-radius: 0.25em;background-color: #f0f8ff;}#sk-container-id-3 input.sk-toggleable__control:checked~div.sk-toggleable__content {max-height: 200px;max-width: 100%;overflow: auto;}#sk-container-id-3 input.sk-toggleable__control:checked~label.sk-toggleable__label-arrow:before {content: \"▾\";}#sk-container-id-3 div.sk-estimator input.sk-toggleable__control:checked~label.sk-toggleable__label {background-color: #d4ebff;}#sk-container-id-3 div.sk-label input.sk-toggleable__control:checked~label.sk-toggleable__label {background-color: #d4ebff;}#sk-container-id-3 input.sk-hidden--visually {border: 0;clip: rect(1px 1px 1px 1px);clip: rect(1px, 1px, 1px, 1px);height: 1px;margin: -1px;overflow: hidden;padding: 0;position: absolute;width: 1px;}#sk-container-id-3 div.sk-estimator {font-family: monospace;background-color: #f0f8ff;border: 1px dotted black;border-radius: 0.25em;box-sizing: border-box;margin-bottom: 0.5em;}#sk-container-id-3 div.sk-estimator:hover {background-color: #d4ebff;}#sk-container-id-3 div.sk-parallel-item::after {content: \"\";width: 100%;border-bottom: 1px solid gray;flex-grow: 1;}#sk-container-id-3 div.sk-label:hover label.sk-toggleable__label {background-color: #d4ebff;}#sk-container-id-3 div.sk-serial::before {content: \"\";position: absolute;border-left: 1px solid gray;box-sizing: border-box;top: 0;bottom: 0;left: 50%;z-index: 0;}#sk-container-id-3 div.sk-serial {display: flex;flex-direction: column;align-items: center;background-color: white;padding-right: 0.2em;padding-left: 0.2em;position: relative;}#sk-container-id-3 div.sk-item {position: relative;z-index: 1;}#sk-container-id-3 div.sk-parallel {display: flex;align-items: stretch;justify-content: center;background-color: white;position: relative;}#sk-container-id-3 div.sk-item::before, #sk-container-id-3 div.sk-parallel-item::before {content: \"\";position: absolute;border-left: 1px solid gray;box-sizing: border-box;top: 0;bottom: 0;left: 50%;z-index: -1;}#sk-container-id-3 div.sk-parallel-item {display: flex;flex-direction: column;z-index: 1;position: relative;background-color: white;}#sk-container-id-3 div.sk-parallel-item:first-child::after {align-self: flex-end;width: 50%;}#sk-container-id-3 div.sk-parallel-item:last-child::after {align-self: flex-start;width: 50%;}#sk-container-id-3 div.sk-parallel-item:only-child::after {width: 0;}#sk-container-id-3 div.sk-dashed-wrapped {border: 1px dashed gray;margin: 0 0.4em 0.5em 0.4em;box-sizing: border-box;padding-bottom: 0.4em;background-color: white;}#sk-container-id-3 div.sk-label label {font-family: monospace;font-weight: bold;display: inline-block;line-height: 1.2em;}#sk-container-id-3 div.sk-label-container {text-align: center;}#sk-container-id-3 div.sk-container {/* jupyter's `normalize.less` sets `[hidden] { display: none; }` but bootstrap.min.css set `[hidden] { display: none !important; }` so we also need the `!important` here to be able to override the default hidden behavior on the sphinx rendered scikit-learn.org. See: https://github.com/scikit-learn/scikit-learn/issues/21755 */display: inline-block !important;position: relative;}#sk-container-id-3 div.sk-text-repr-fallback {display: none;}</style><div id=\"sk-container-id-3\" class=\"sk-top-container\"><div class=\"sk-text-repr-fallback\"><pre>XGBClassifier(base_score=None, booster=None, callbacks=None,\n",
       "              colsample_bylevel=None, colsample_bynode=None,\n",
       "              colsample_bytree=None, early_stopping_rounds=None,\n",
       "              enable_categorical=False, eval_metric=None, feature_types=None,\n",
       "              gamma=None, gpu_id=None, grow_policy=None, importance_type=None,\n",
       "              interaction_constraints=None, learning_rate=0.1, max_bin=None,\n",
       "              max_cat_threshold=None, max_cat_to_onehot=None,\n",
       "              max_delta_step=None, max_depth=3, max_leaves=None,\n",
       "              min_child_weight=None, missing=nan, monotone_constraints=None,\n",
       "              n_estimators=300, n_jobs=None, num_parallel_tree=None,\n",
       "              predictor=None, random_state=None, ...)</pre><b>In a Jupyter environment, please rerun this cell to show the HTML representation or trust the notebook. <br />On GitHub, the HTML representation is unable to render, please try loading this page with nbviewer.org.</b></div><div class=\"sk-container\" hidden><div class=\"sk-item\"><div class=\"sk-estimator sk-toggleable\"><input class=\"sk-toggleable__control sk-hidden--visually\" id=\"sk-estimator-id-3\" type=\"checkbox\" checked><label for=\"sk-estimator-id-3\" class=\"sk-toggleable__label sk-toggleable__label-arrow\">XGBClassifier</label><div class=\"sk-toggleable__content\"><pre>XGBClassifier(base_score=None, booster=None, callbacks=None,\n",
       "              colsample_bylevel=None, colsample_bynode=None,\n",
       "              colsample_bytree=None, early_stopping_rounds=None,\n",
       "              enable_categorical=False, eval_metric=None, feature_types=None,\n",
       "              gamma=None, gpu_id=None, grow_policy=None, importance_type=None,\n",
       "              interaction_constraints=None, learning_rate=0.1, max_bin=None,\n",
       "              max_cat_threshold=None, max_cat_to_onehot=None,\n",
       "              max_delta_step=None, max_depth=3, max_leaves=None,\n",
       "              min_child_weight=None, missing=nan, monotone_constraints=None,\n",
       "              n_estimators=300, n_jobs=None, num_parallel_tree=None,\n",
       "              predictor=None, random_state=None, ...)</pre></div></div></div></div></div>"
      ],
      "text/plain": [
       "XGBClassifier(base_score=None, booster=None, callbacks=None,\n",
       "              colsample_bylevel=None, colsample_bynode=None,\n",
       "              colsample_bytree=None, early_stopping_rounds=None,\n",
       "              enable_categorical=False, eval_metric=None, feature_types=None,\n",
       "              gamma=None, gpu_id=None, grow_policy=None, importance_type=None,\n",
       "              interaction_constraints=None, learning_rate=0.1, max_bin=None,\n",
       "              max_cat_threshold=None, max_cat_to_onehot=None,\n",
       "              max_delta_step=None, max_depth=3, max_leaves=None,\n",
       "              min_child_weight=None, missing=nan, monotone_constraints=None,\n",
       "              n_estimators=300, n_jobs=None, num_parallel_tree=None,\n",
       "              predictor=None, random_state=None, ...)"
      ]
     },
     "execution_count": 96,
     "metadata": {},
     "output_type": "execute_result"
    }
   ],
   "source": [
    "xgb_clf.fit(X_train, y_train)"
   ]
  },
  {
   "cell_type": "code",
   "execution_count": 98,
   "id": "e407ab72",
   "metadata": {},
   "outputs": [],
   "source": [
    "X_test = test_impute.drop(['PassengerId'], axis = 1)"
   ]
  },
  {
   "cell_type": "code",
   "execution_count": 99,
   "id": "bb550dd8",
   "metadata": {},
   "outputs": [],
   "source": [
    "y_pred = xgb_clf.predict(X_test)"
   ]
  },
  {
   "cell_type": "code",
   "execution_count": 100,
   "id": "c9240e75",
   "metadata": {},
   "outputs": [],
   "source": [
    "submission = test[['PassengerId']]"
   ]
  },
  {
   "cell_type": "code",
   "execution_count": 101,
   "id": "3b0430f1",
   "metadata": {},
   "outputs": [],
   "source": [
    "submission['Transported'] = y_pred"
   ]
  },
  {
   "cell_type": "code",
   "execution_count": 102,
   "id": "336cf545",
   "metadata": {},
   "outputs": [],
   "source": [
    "submission['Transported'] = submission['Transported'].astype('bool')"
   ]
  },
  {
   "cell_type": "code",
   "execution_count": 104,
   "id": "d66958e0",
   "metadata": {},
   "outputs": [
    {
     "data": {
      "text/html": [
       "<div>\n",
       "<style scoped>\n",
       "    .dataframe tbody tr th:only-of-type {\n",
       "        vertical-align: middle;\n",
       "    }\n",
       "\n",
       "    .dataframe tbody tr th {\n",
       "        vertical-align: top;\n",
       "    }\n",
       "\n",
       "    .dataframe thead th {\n",
       "        text-align: right;\n",
       "    }\n",
       "</style>\n",
       "<table border=\"1\" class=\"dataframe\">\n",
       "  <thead>\n",
       "    <tr style=\"text-align: right;\">\n",
       "      <th></th>\n",
       "      <th>PassengerId</th>\n",
       "      <th>Transported</th>\n",
       "    </tr>\n",
       "  </thead>\n",
       "  <tbody>\n",
       "    <tr>\n",
       "      <th>0</th>\n",
       "      <td>0013_01</td>\n",
       "      <td>True</td>\n",
       "    </tr>\n",
       "    <tr>\n",
       "      <th>1</th>\n",
       "      <td>0018_01</td>\n",
       "      <td>False</td>\n",
       "    </tr>\n",
       "    <tr>\n",
       "      <th>2</th>\n",
       "      <td>0019_01</td>\n",
       "      <td>True</td>\n",
       "    </tr>\n",
       "    <tr>\n",
       "      <th>3</th>\n",
       "      <td>0021_01</td>\n",
       "      <td>True</td>\n",
       "    </tr>\n",
       "    <tr>\n",
       "      <th>4</th>\n",
       "      <td>0023_01</td>\n",
       "      <td>True</td>\n",
       "    </tr>\n",
       "  </tbody>\n",
       "</table>\n",
       "</div>"
      ],
      "text/plain": [
       "  PassengerId  Transported\n",
       "0     0013_01         True\n",
       "1     0018_01        False\n",
       "2     0019_01         True\n",
       "3     0021_01         True\n",
       "4     0023_01         True"
      ]
     },
     "execution_count": 104,
     "metadata": {},
     "output_type": "execute_result"
    }
   ],
   "source": [
    "submission.head()"
   ]
  },
  {
   "cell_type": "code",
   "execution_count": null,
   "id": "9c88d303",
   "metadata": {},
   "outputs": [],
   "source": [
    "save_location_path = \"location on your local drive\"\n",
    "\n",
    "submission.to_csv(save_location_path, index=False)"
   ]
  },
  {
   "cell_type": "markdown",
   "id": "2730c86e",
   "metadata": {},
   "source": [
    "After Submission I received a score of 0.80079, which placed me in the top 30%"
   ]
  },
  {
   "cell_type": "code",
   "execution_count": null,
   "id": "b803fd59",
   "metadata": {},
   "outputs": [],
   "source": []
  }
 ],
 "metadata": {
  "kernelspec": {
   "display_name": "Python 3 (ipykernel)",
   "language": "python",
   "name": "python3"
  },
  "language_info": {
   "codemirror_mode": {
    "name": "ipython",
    "version": 3
   },
   "file_extension": ".py",
   "mimetype": "text/x-python",
   "name": "python",
   "nbconvert_exporter": "python",
   "pygments_lexer": "ipython3",
   "version": "3.10.9"
  }
 },
 "nbformat": 4,
 "nbformat_minor": 5
}
